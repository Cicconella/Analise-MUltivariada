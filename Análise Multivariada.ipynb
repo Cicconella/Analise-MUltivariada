{
 "cells": [
  {
   "cell_type": "markdown",
   "metadata": {},
   "source": [
    "# Dados Multivariados\n",
    "\n",
    "Podemos representar a matriz de dados da seguinte forma:\n",
    "\n",
    "$$ Y_{n \\times p} = \\begin{bmatrix}Y_{11} & \\dots & Y_{1p} \\\\ \\vdots & \\ddots & \\vdots \\\\ Y_{n1} & \\dots & Y_{np} \\end{bmatrix} $$\n",
    "\n",
    "Amostras: $i = 1, \\dots, n$\n",
    "\n",
    "Parâmetros: $j = 1, \\dots, p$\n",
    "\n",
    "Deste modo, \n",
    "\n",
    "$$ Y_{ij} = \\text{Resposta da i-ésima amostra para o j-ésimo parâmetro}  $$  \n",
    "\n",
    "\n",
    "Um exemplo de dados, medidas do crânio de 7 raças de cachorros pré-históricos (Manly, 2005):"
   ]
  },
  {
   "cell_type": "code",
   "execution_count": 1,
   "metadata": {},
   "outputs": [
    {
     "data": {
      "text/html": [
       "<table>\n",
       "<thead><tr><th scope=col>X1</th><th scope=col>X2</th><th scope=col>X3</th><th scope=col>X4</th><th scope=col>X5</th><th scope=col>X6</th></tr></thead>\n",
       "<tbody>\n",
       "\t<tr><td> 9.7</td><td>21.0</td><td>19.4</td><td> 7.7</td><td>32.0</td><td>36.5</td></tr>\n",
       "\t<tr><td> 8.1</td><td>16.7</td><td>18.3</td><td> 7.0</td><td>30.3</td><td>32.9</td></tr>\n",
       "\t<tr><td>13.5</td><td>27.3</td><td>26.8</td><td>10.6</td><td>41.9</td><td>48.1</td></tr>\n",
       "\t<tr><td>11.5</td><td>24.3</td><td>24.5</td><td> 9.3</td><td>40.0</td><td>44.6</td></tr>\n",
       "\t<tr><td>10.7</td><td>23.5</td><td>21.4</td><td> 8.5</td><td>28.8</td><td>37.6</td></tr>\n",
       "\t<tr><td> 9.6</td><td>22.6</td><td>21.1</td><td> 8.3</td><td>34.4</td><td>43.1</td></tr>\n",
       "</tbody>\n",
       "</table>\n"
      ],
      "text/latex": [
       "\\begin{tabular}{r|llllll}\n",
       " X1 & X2 & X3 & X4 & X5 & X6\\\\\n",
       "\\hline\n",
       "\t  9.7 & 21.0 & 19.4 &  7.7 & 32.0 & 36.5\\\\\n",
       "\t  8.1 & 16.7 & 18.3 &  7.0 & 30.3 & 32.9\\\\\n",
       "\t 13.5 & 27.3 & 26.8 & 10.6 & 41.9 & 48.1\\\\\n",
       "\t 11.5 & 24.3 & 24.5 &  9.3 & 40.0 & 44.6\\\\\n",
       "\t 10.7 & 23.5 & 21.4 &  8.5 & 28.8 & 37.6\\\\\n",
       "\t  9.6 & 22.6 & 21.1 &  8.3 & 34.4 & 43.1\\\\\n",
       "\\end{tabular}\n"
      ],
      "text/markdown": [
       "\n",
       "X1 | X2 | X3 | X4 | X5 | X6 | \n",
       "|---|---|---|---|---|---|\n",
       "|  9.7 | 21.0 | 19.4 |  7.7 | 32.0 | 36.5 | \n",
       "|  8.1 | 16.7 | 18.3 |  7.0 | 30.3 | 32.9 | \n",
       "| 13.5 | 27.3 | 26.8 | 10.6 | 41.9 | 48.1 | \n",
       "| 11.5 | 24.3 | 24.5 |  9.3 | 40.0 | 44.6 | \n",
       "| 10.7 | 23.5 | 21.4 |  8.5 | 28.8 | 37.6 | \n",
       "|  9.6 | 22.6 | 21.1 |  8.3 | 34.4 | 43.1 | \n",
       "\n",
       "\n"
      ],
      "text/plain": [
       "  X1   X2   X3   X4   X5   X6  \n",
       "1  9.7 21.0 19.4  7.7 32.0 36.5\n",
       "2  8.1 16.7 18.3  7.0 30.3 32.9\n",
       "3 13.5 27.3 26.8 10.6 41.9 48.1\n",
       "4 11.5 24.3 24.5  9.3 40.0 44.6\n",
       "5 10.7 23.5 21.4  8.5 28.8 37.6\n",
       "6  9.6 22.6 21.1  8.3 34.4 43.1"
      ]
     },
     "metadata": {},
     "output_type": "display_data"
    },
    {
     "data": {
      "text/html": [
       "<ol class=list-inline>\n",
       "\t<li>7</li>\n",
       "\t<li>6</li>\n",
       "</ol>\n"
      ],
      "text/latex": [
       "\\begin{enumerate*}\n",
       "\\item 7\n",
       "\\item 6\n",
       "\\end{enumerate*}\n"
      ],
      "text/markdown": [
       "1. 7\n",
       "2. 6\n",
       "\n",
       "\n"
      ],
      "text/plain": [
       "[1] 7 6"
      ]
     },
     "metadata": {},
     "output_type": "display_data"
    }
   ],
   "source": [
    "caes = read.table(\"MAE0330-Caes\", sep=\";\", header = T)\n",
    "head(caes)\n",
    "dim(caes)"
   ]
  },
  {
   "cell_type": "markdown",
   "metadata": {},
   "source": [
    "Neste caso,\n",
    "\n",
    "Amostras: n = 7\n",
    "\n",
    "Parâmetros: p = 6"
   ]
  },
  {
   "cell_type": "markdown",
   "metadata": {},
   "source": [
    "# Estatísticas Descritivas\n",
    "\n",
    "Média da j-ésima variável:\n",
    "\n",
    "$$\\bar{Y_{j}} = \\frac{1}{n} \\sum_{i=1}^n Y_{ij} = \\frac{1}{n} (1'Y{.j})$$\n",
    "\n",
    "Covariância entre variáveis j e j':\n",
    "\n",
    "$$s_{jj'} = \\frac{1}{n-1} \\sum_{i=1}^n (Y_{ij}-\\bar{Y_j})(Y_{ij'}-\\bar{Y_{j'}})$$\n",
    "\n",
    "Correlação entre as variáveis j e j':\n",
    "\n",
    "$$r_{jj'} = \\frac{s_{jj'}}{\\sqrt{s_{jj}}\\sqrt{s_{j'j'}}} = \\frac{\\sum_{i=1}^n (Y_{ij}-\\bar{Y_j})(Y_{ij'}-\\bar{Y_{j'}})}{\\sqrt{\\sum_{i=1}^n (Y_{ij}-\\bar{Y_j})^2}\\sqrt{\\sum_{i=1}^n (Y_{ij'}-\\bar{Y_{j'}})^2}}$$\n",
    "\n",
    "Variância total de Y:\n",
    "\n",
    "$$ V.T. = tr(Y) - \\sum_{i=1}^n s_{ii} $$\n",
    "\n",
    "Variância generalizada de Y:\n",
    "\n",
    "$$ V.G. = |S| $$ \n",
    "\n",
    "- O valor de r deve ser entre -1 e 1\n",
    "\n",
    "- r mede a força da associação linear (0 é fraco e 1 é forte). O sinal indica a direção da associação.\n",
    "\n",
    "- O valor de $r_{jj'}$ não muda se as medidas da j-ésima variável mudam para $y_{ji} = ax_{ji}+b$ e os valores da j'-ésima variável muda para $y_{j'i} = cx_{j'i}+d$ para $i = 1,\\dots,n$ dadas que as constantes $a$ e $c$ possuem o mesmo sinal.\n",
    "\n",
    "- Covariância e correlação são muito sensíveis a outliers\n",
    "\n",
    "No exemplo, \n",
    "\n",
    "Média para a variável $x_2$:\n",
    "\n",
    "$$ \\bar{Y}_{x_2} = \\frac{21+16.7+27.3+24.3+23.5+22.6+22.1}{7} = 22.5$$\n",
    "\n",
    "No R:"
   ]
  },
  {
   "cell_type": "code",
   "execution_count": 2,
   "metadata": {},
   "outputs": [
    {
     "name": "stdout",
     "output_type": "stream",
     "text": [
      "      X1       X2       X3       X4       X5       X6 \n",
      "10.48571 22.50000 21.51429  8.50000 34.22857 39.68571 \n"
     ]
    }
   ],
   "source": [
    "medias = apply(caes,2,mean, na.rm=T)\n",
    "print(medias)"
   ]
  },
  {
   "cell_type": "markdown",
   "metadata": {},
   "source": [
    "O vetor \"medias\" pode ser descrito como o centróide de Y.\n",
    "\n",
    "Covariância para as variáveis $x_2$ e $x_4$:\n",
    "\n",
    "$$ s_{x_2x_4} = \\frac{1}{7-1} \\sum_{i=1}^7 (y_{ix_2}-22.5) (y_{ix_4}-8.5) = 3.59$$\n",
    "\n",
    "No R:"
   ]
  },
  {
   "cell_type": "code",
   "execution_count": 3,
   "metadata": {},
   "outputs": [
    {
     "name": "stdout",
     "output_type": "stream",
     "text": [
      "         X1        X2        X3       X4        X5        X6\n",
      "X1 2.881429  5.251667  4.846905 1.933333  6.527143  7.739762\n",
      "X2 5.251667 10.556667  8.895000 3.593333 11.456667 15.583333\n",
      "X3 4.846905  8.895000  9.611429 3.508333 13.427857 16.305238\n",
      "X4 1.933333  3.593333  3.508333 1.356667  4.863333  5.920000\n",
      "X5 6.527143 11.456667 13.427857 4.863333 24.362381 24.680476\n",
      "X6 7.739762 15.583333 16.305238 5.920000 24.680476 31.518095\n"
     ]
    }
   ],
   "source": [
    "covariancias = cov(caes)\n",
    "print(covariancias)"
   ]
  },
  {
   "cell_type": "markdown",
   "metadata": {},
   "source": [
    "Correlação entre as variáveis $x_2$ e $x_4$:\n",
    "\n",
    "$$ r_{x_2x_4} = \\frac{\\sum_{i=1}^7  (y_{ix_2}-22.5) (y_{ix_4}-8.5)}{\\sqrt{\\sum_{i=1}^7 (y_{ix_2}-22.5)^2} \\sqrt{\\sum_{i=1}^7 (y_{ix_4}-8.5)^2}} = 0.9495$$\n"
   ]
  },
  {
   "cell_type": "code",
   "execution_count": 4,
   "metadata": {},
   "outputs": [
    {
     "name": "stdout",
     "output_type": "stream",
     "text": [
      "          X1        X2        X3        X4        X5        X6\n",
      "X1 1.0000000 0.9522036 0.9210148 0.9778365 0.7790392 0.8121639\n",
      "X2 0.9522036 1.0000000 0.8830567 0.9495056 0.7143894 0.8543129\n",
      "X3 0.9210148 0.8830567 1.0000000 0.9715615 0.8775116 0.9368136\n",
      "X4 0.9778365 0.9495056 0.9715615 1.0000000 0.8459362 0.9053263\n",
      "X5 0.7790392 0.7143894 0.8775116 0.8459362 1.0000000 0.8906636\n",
      "X6 0.8121639 0.8543129 0.9368136 0.9053263 0.8906636 1.0000000\n"
     ]
    }
   ],
   "source": [
    "correlacoes = cor(caes)\n",
    "print(correlacoes)"
   ]
  },
  {
   "cell_type": "markdown",
   "metadata": {},
   "source": []
  }
 ],
 "metadata": {
  "kernelspec": {
   "display_name": "R",
   "language": "R",
   "name": "ir"
  },
  "language_info": {
   "codemirror_mode": "r",
   "file_extension": ".r",
   "mimetype": "text/x-r-source",
   "name": "R",
   "pygments_lexer": "r",
   "version": "3.4.1"
  }
 },
 "nbformat": 4,
 "nbformat_minor": 2
}
