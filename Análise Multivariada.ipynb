{
 "cells": [
  {
   "cell_type": "markdown",
   "metadata": {},
   "source": [
    "# Dados Multivariados\n",
    "\n",
    "Podemos representar a matriz de dados da seguinte forma:\n",
    "\n",
    "$$ Y_{n \\times p} = \\begin{bmatrix}Y_{11} & \\dots & Y_{1p} \\\\ \\vdots & \\ddots & \\vdots \\\\ Y_{n1} & \\dots & Y_{np} \\end{bmatrix} $$\n",
    "\n",
    "Amostras: $i = 1, \\dots, n$\n",
    "\n",
    "Parâmetros: $j = 1, \\dots, p$\n",
    "\n",
    "Deste modo, \n",
    "\n",
    "$$ Y_{ij} = \\text{Resposta da i-ésima amostra para o j-ésimo parâmetro}  $$  \n",
    "\n",
    "\n",
    "Um exemplo de dados, medidas do crânio de 7 raças de cachorros pré-históricos (Manly, 2005):"
   ]
  },
  {
   "cell_type": "code",
   "execution_count": 1,
   "metadata": {},
   "outputs": [
    {
     "name": "stdout",
     "output_type": "stream",
     "text": [
      "    X1   X2   X3   X4   X5   X6\n",
      "1  9.7 21.0 19.4  7.7 32.0 36.5\n",
      "2  8.1 16.7 18.3  7.0 30.3 32.9\n",
      "3 13.5 27.3 26.8 10.6 41.9 48.1\n",
      "4 11.5 24.3 24.5  9.3 40.0 44.6\n",
      "5 10.7 23.5 21.4  8.5 28.8 37.6\n",
      "6  9.6 22.6 21.1  8.3 34.4 43.1\n",
      "7 10.3 22.1 19.1  8.1 32.2 35.0\n"
     ]
    },
    {
     "data": {
      "text/html": [
       "<ol class=list-inline>\n",
       "\t<li>7</li>\n",
       "\t<li>6</li>\n",
       "</ol>\n"
      ],
      "text/latex": [
       "\\begin{enumerate*}\n",
       "\\item 7\n",
       "\\item 6\n",
       "\\end{enumerate*}\n"
      ],
      "text/markdown": [
       "1. 7\n",
       "2. 6\n",
       "\n",
       "\n"
      ],
      "text/plain": [
       "[1] 7 6"
      ]
     },
     "metadata": {},
     "output_type": "display_data"
    }
   ],
   "source": [
    "caes = read.table(\"MAE0330-Caes\", sep=\";\", header = T)\n",
    "print(caes)\n",
    "dim(caes)"
   ]
  },
  {
   "cell_type": "markdown",
   "metadata": {},
   "source": [
    "Neste caso,\n",
    "\n",
    "Amostras: n = 7\n",
    "\n",
    "Parâmetros: p = 6"
   ]
  },
  {
   "cell_type": "markdown",
   "metadata": {},
   "source": [
    "# Estatísticas Descritivas\n",
    "\n",
    "#### Média da j-ésima variável:\n",
    "\n",
    "$$\\bar{Y_{j}} = \\frac{1}{n} \\sum_{i=1}^n Y_{ij} = \\frac{1}{n} (1'Y{.j})$$\n",
    "\n",
    "Assim, $\\bar{Y}$ é vetor de médias.\n",
    "\n",
    "#### Covariância entre variáveis j e j':\n",
    "\n",
    "$$s_{jj'} = \\frac{1}{n-1} \\sum_{i=1}^n (Y_{ij}-\\bar{Y_j})(Y_{ij'}-\\bar{Y_{j'}})$$\n",
    "\n",
    "Assim, $S$ é a matrix de variâncias e covariâncias de $Y$.\n",
    "\n",
    "#### Correlação entre as variáveis j e j':\n",
    "\n",
    "$$r_{jj'} = \\frac{s_{jj'}}{\\sqrt{s_{jj}}\\sqrt{s_{j'j'}}} = \\frac{\\sum_{i=1}^n (Y_{ij}-\\bar{Y_j})(Y_{ij'}-\\bar{Y_{j'}})}{\\sqrt{\\sum_{i=1}^n (Y_{ij}-\\bar{Y_j})^2}\\sqrt{\\sum_{i=1}^n (Y_{ij'}-\\bar{Y_{j'}})^2}}$$\n",
    "\n",
    "Assim, $S$ é a matrix de correlações de $Y$.\n",
    "\n",
    "#### Variância total de Y:\n",
    "\n",
    "$$ V.T. = tr(Y) - \\sum_{i=1}^n s_{ii} $$\n",
    "\n",
    "#### Variância generalizada de Y:\n",
    "\n",
    "$$ V.G. = |S| $$ \n",
    "\n",
    "#### Algumas considerações:\n",
    "\n",
    "- O valor de r deve ser entre -1 e 1\n",
    "\n",
    "- r mede a força da associação linear (0 é fraco e 1 é forte). O sinal indica a direção da associação.\n",
    "\n",
    "- O valor de $r_{jj'}$ não muda se as medidas da j-ésima variável mudam para $y_{ji} = ax_{ji}+b$ e os valores da j'-ésima variável muda para $y_{j'i} = cx_{j'i}+d$ para $i = 1,\\dots,n$ dadas que as constantes $a$ e $c$ possuem o mesmo sinal.\n",
    "\n",
    "- Covariância e correlação são muito sensíveis a outliers\n",
    "\n",
    "### No exemplo, \n",
    "\n",
    "Média para a variável $x_2$:\n",
    "\n",
    "$$ \\bar{Y}_{x_2} = \\frac{21+16.7+27.3+24.3+23.5+22.6+22.1}{7} = 22.5$$\n",
    "\n",
    "No R:"
   ]
  },
  {
   "cell_type": "code",
   "execution_count": 2,
   "metadata": {},
   "outputs": [
    {
     "name": "stdout",
     "output_type": "stream",
     "text": [
      "      X1       X2       X3       X4       X5       X6 \n",
      "10.48571 22.50000 21.51429  8.50000 34.22857 39.68571 \n"
     ]
    }
   ],
   "source": [
    "medias = colMeans(caes)               \n",
    "print(medias)"
   ]
  },
  {
   "cell_type": "markdown",
   "metadata": {},
   "source": [
    "O vetor \"medias\" pode ser descrito como o centróide de Y.\n",
    "\n",
    "Covariância para as variáveis $x_2$ e $x_4$:\n",
    "\n",
    "$$ s_{x_2x_4} = \\frac{1}{7-1} \\sum_{i=1}^7 (y_{ix_2}-22.5) (y_{ix_4}-8.5) = 3.59$$\n",
    "\n",
    "No R:"
   ]
  },
  {
   "cell_type": "code",
   "execution_count": 3,
   "metadata": {},
   "outputs": [
    {
     "name": "stdout",
     "output_type": "stream",
     "text": [
      "         X1        X2        X3       X4        X5        X6\n",
      "X1 2.881429  5.251667  4.846905 1.933333  6.527143  7.739762\n",
      "X2 5.251667 10.556667  8.895000 3.593333 11.456667 15.583333\n",
      "X3 4.846905  8.895000  9.611429 3.508333 13.427857 16.305238\n",
      "X4 1.933333  3.593333  3.508333 1.356667  4.863333  5.920000\n",
      "X5 6.527143 11.456667 13.427857 4.863333 24.362381 24.680476\n",
      "X6 7.739762 15.583333 16.305238 5.920000 24.680476 31.518095\n"
     ]
    }
   ],
   "source": [
    "covariancias = cov(caes)\n",
    "print(covariancias)"
   ]
  },
  {
   "cell_type": "markdown",
   "metadata": {},
   "source": [
    "Correlação entre as variáveis $x_2$ e $x_4$:\n",
    "\n",
    "$$ r_{x_2x_4} = \\frac{\\sum_{i=1}^7  (y_{ix_2}-22.5) (y_{ix_4}-8.5)}{\\sqrt{\\sum_{i=1}^7 (y_{ix_2}-22.5)^2} \\sqrt{\\sum_{i=1}^7 (y_{ix_4}-8.5)^2}} = 0.9495$$\n"
   ]
  },
  {
   "cell_type": "code",
   "execution_count": 4,
   "metadata": {},
   "outputs": [
    {
     "name": "stdout",
     "output_type": "stream",
     "text": [
      "          X1        X2        X3        X4        X5        X6\n",
      "X1 1.0000000 0.9522036 0.9210148 0.9778365 0.7790392 0.8121639\n",
      "X2 0.9522036 1.0000000 0.8830567 0.9495056 0.7143894 0.8543129\n",
      "X3 0.9210148 0.8830567 1.0000000 0.9715615 0.8775116 0.9368136\n",
      "X4 0.9778365 0.9495056 0.9715615 1.0000000 0.8459362 0.9053263\n",
      "X5 0.7790392 0.7143894 0.8775116 0.8459362 1.0000000 0.8906636\n",
      "X6 0.8121639 0.8543129 0.9368136 0.9053263 0.8906636 1.0000000\n"
     ]
    }
   ],
   "source": [
    "correlacoes = cor(caes)\n",
    "print(correlacoes)"
   ]
  },
  {
   "cell_type": "markdown",
   "metadata": {},
   "source": [
    "#### Os valores de $y$ podem ser padronizados:\n",
    "\n",
    "$$ y_{ij}^* = \\frac{y_{ij}-\\bar{y}_j}{\\sqrt{s_{jj}}}$$\n",
    "\n",
    "Para $i = 1,...,7$ e $j = 1,...,6$\n",
    "\n",
    "Assim as variáveis estão centradas no zero e, deste modo, teremos que:\n",
    "\n",
    "$$ S^* = R^* = R $$"
   ]
  },
  {
   "cell_type": "code",
   "execution_count": 5,
   "metadata": {},
   "outputs": [
    {
     "name": "stdout",
     "output_type": "stream",
     "text": [
      "          X1        X2        X3        X4        X5        X6\n",
      "X1 1.0000000 0.9522036 0.9210148 0.9778365 0.7790392 0.8121639\n",
      "X2 0.9522036 1.0000000 0.8830567 0.9495056 0.7143894 0.8543129\n",
      "X3 0.9210148 0.8830567 1.0000000 0.9715615 0.8775116 0.9368136\n",
      "X4 0.9778365 0.9495056 0.9715615 1.0000000 0.8459362 0.9053263\n",
      "X5 0.7790392 0.7143894 0.8775116 0.8459362 1.0000000 0.8906636\n",
      "X6 0.8121639 0.8543129 0.9368136 0.9053263 0.8906636 1.0000000\n",
      "          X1        X2        X3        X4        X5        X6\n",
      "X1 1.0000000 0.9522036 0.9210148 0.9778365 0.7790392 0.8121639\n",
      "X2 0.9522036 1.0000000 0.8830567 0.9495056 0.7143894 0.8543129\n",
      "X3 0.9210148 0.8830567 1.0000000 0.9715615 0.8775116 0.9368136\n",
      "X4 0.9778365 0.9495056 0.9715615 1.0000000 0.8459362 0.9053263\n",
      "X5 0.7790392 0.7143894 0.8775116 0.8459362 1.0000000 0.8906636\n",
      "X6 0.8121639 0.8543129 0.9368136 0.9053263 0.8906636 1.0000000\n",
      "          X1        X2        X3        X4        X5        X6\n",
      "X1 1.0000000 0.9522036 0.9210148 0.9778365 0.7790392 0.8121639\n",
      "X2 0.9522036 1.0000000 0.8830567 0.9495056 0.7143894 0.8543129\n",
      "X3 0.9210148 0.8830567 1.0000000 0.9715615 0.8775116 0.9368136\n",
      "X4 0.9778365 0.9495056 0.9715615 1.0000000 0.8459362 0.9053263\n",
      "X5 0.7790392 0.7143894 0.8775116 0.8459362 1.0000000 0.8906636\n",
      "X6 0.8121639 0.8543129 0.9368136 0.9053263 0.8906636 1.0000000\n"
     ]
    }
   ],
   "source": [
    "diagonal = sqrt(1/diag(covariancias))\n",
    "\n",
    "caesEstrela=caes\n",
    "\n",
    "for(i in 1:6){\n",
    "  b = (caes[,i]-medias[i])*diagonal[i]\n",
    "  caesEstrela[,i] = b\n",
    "}\n",
    "\n",
    "print(cov(caesEstrela))\n",
    "print(cor(caesEstrela))\n",
    "print(cor(caes))"
   ]
  },
  {
   "cell_type": "markdown",
   "metadata": {},
   "source": [
    "A função *scale* do R faz a mesma coisa, mas eu queria deixar claro o cálculo. =P\n",
    "\n",
    "O centróide de $Y^*$ será o vetor de zeros e a variância total será igual ao valor de $p$, uma vez que a diagonal de $S^*$ contém apenas 1."
   ]
  },
  {
   "cell_type": "markdown",
   "metadata": {},
   "source": [
    "A correlação pode indicar uma relação indireta, por exemplo, se a variável A influencia B e C, mesmo que B e C sejam independentes, a correlação irá existir entre eles. Assim, podemos calcular a **Correlação Parcial** destas duas variáveis ($\\rho_{BC|A}$).\n",
    "\n",
    "#### Correlação parcial entre as variáveis $j$ e $j'$ dado $p$ variáveis:\n",
    "\n",
    "$$ \\rho_{jj'P \\backslash jj'} =  \\frac{-w_{jj'}}{\\sqrt{w_{jj}w_{j'j'}}}$$\n",
    "\n",
    "Sendo que a matriz $W$ é dada pela inversa da matriz $S$.\n"
   ]
  },
  {
   "cell_type": "code",
   "execution_count": 6,
   "metadata": {},
   "outputs": [
    {
     "name": "stdout",
     "output_type": "stream",
     "text": [
      "           X1         X2         X3         X4         X5         X6\n",
      "X1 -1.0000000  0.8101713  0.4771876  0.7061076  0.7124201 -0.9127644\n",
      "X2  0.8101713 -1.0000000 -0.7213236 -0.1992454 -0.8414502  0.8919502\n",
      "X3  0.4771876 -0.7213236 -1.0000000  0.1973347 -0.5309113  0.6757264\n",
      "X4  0.7061076 -0.1992454  0.1973347 -1.0000000 -0.2226388  0.4753696\n",
      "X5  0.7124201 -0.8414502 -0.5309113 -0.2226388 -1.0000000  0.8364454\n",
      "X6 -0.9127644  0.8919502  0.6757264  0.4753696  0.8364454 -1.0000000\n"
     ]
    }
   ],
   "source": [
    "inversaCov = solve(covariancias)\n",
    "\n",
    "corMarg = inversaCov\n",
    "\n",
    "for(i in 1:nrow(inversaCov)){\n",
    "  for(j in 1:ncol(inversaCov)){\n",
    "    corMarg[i,j] = -corMarg[i,j]/sqrt(inversaCov[i,i]*inversaCov[j,j]) \n",
    "  }\n",
    "}\n",
    "\n",
    "print(corMarg)"
   ]
  },
  {
   "cell_type": "markdown",
   "metadata": {},
   "source": [
    "Deste modo, temos que, por exemplo, as variáveis $x_1$ e $x_3$ que tinham uma correlação de 92%, e sem o efeito das outras variáveis, pasosu a ter apenas 47% de correlação. A diagonal será definida como positiva.\n",
    "\n",
    "A **correlação parcial** pode ser calculada de outras formas, como por exemplo, por regressão linear.\n",
    "\n",
    "\n",
    "# Medidas de Distância\n",
    "\n",
    "Dado o ponto $P$ em um espaço n-dimensional, $P=(x_1,\\dots, x_n)$, sua distância eucliadiana da origem pode ser descrita como:\n",
    "\n",
    "$$ d(O, P) = \\sqrt{x_1^2 + \\dots + x_n^2} $$\n",
    "\n",
    "E sua distância para um ponto $Q$, $Q=(y_1,\\dots, y_n)$, dado por:\n",
    "\n",
    "$$ d(P, Q) = \\sqrt{(x_1-y_1)^2 + \\dots + (x_n -y_n)^2} $$\n",
    "\n",
    "Essa definição de $d$ descreve uma hiperesfera (esfera para n=2). \n",
    "\n",
    "Entretanto, cada coordenada contribui da mesma forma para a distância euclidiana, impedindo a possibilidade de dar pesos as variáveis.\n",
    "\n",
    "##### Distância euclidiana supõe variáveis independentes e variâncias homogêneas.\n",
    "\n",
    "## Distâncias estatísticas\n",
    "\n",
    "Distância que leva em consideração as diferenças de variação e o grau de correlação.\n",
    "\n",
    "Uma forma é calcular a distância euclidiana com os valores padronizados (Distância de Pearson):\n",
    "\n",
    "$$ d(O, P) = \\sqrt{\\frac{x_1^2}{s_{11}} + \\dots + \\frac{x_n^2}{s_{nn}}} $$\n",
    "\n",
    "$$ d(P,Q) = \\sqrt{\\frac{(x_1-y_1)^2}{s_{11}} + \\dots + \\frac{(x_n-y_n)^2}{s_{nn}}} $$\n",
    "\n",
    "Entretanto, essas distâncias, como esperado quando $s$ é diferente para cada variável, formam elipsóides. Assim, supõe-se que as variáveis são independentes.\n",
    "\n",
    "#### Padronizar as variáveis é solução quando supõe-se heterocedasticidade e independência.  \n",
    "\n",
    "**Quando as variáveis são correlacionadas e com variabilidade diferentes**, uma solução é a distância de Mahalanobis. \n",
    "\n",
    "Considera-se duas variáves: $x_1$ e $x_2$ correlacionadas e com variâncias diferentes. Rotaciona-se o sistema de eixos de modo que um dos eixos descreva o eixo de maior variância.\n",
    "\n",
    "Assim:\n",
    "\n",
    "$$ d(O,P) = \\sqrt{\\frac{\\tilde{x}^2_1}{\\tilde{s}_{11}}+\\frac{\\tilde{x}^2_2}{\\tilde{s}_{22}}} $$\n",
    "\n",
    "Em que:\n",
    "\n",
    "$$\\tilde{x}_1 = x_1 cos(\\theta) + x_2 sin(\\theta) $$\n",
    "$$\\tilde{x}_1 = -x_1 sin(\\theta) + x_2 cos(\\theta) $$\n",
    "\n",
    "Gerando,\n",
    "\n",
    "$$ d(O,P) = \\sqrt{a_{11}x^2_1 + 2a_{12}x_1x_2 + a_{22}x_2^2}$$\n",
    "\n",
    "Em que, $a$ são valores obtidos de acordo com o ângulo $\\theta$.\n",
    "\n",
    "Generalizando,\n",
    "\n",
    "$$ d_M^2(P,\\mu) = (Y_{px1}-\\mu_{px1})'S(Y_{px1}-\\mu_{px1})$$\n",
    "\n",
    "### Propriedades:\n",
    "\n",
    "- $ d(P,Q) = d(Q,P) $\n",
    "- $ d(P,Q) > 0 \\text{ se } P \\neq 0$\n",
    "- $ d(P,Q) = 0 \\text{ se } P=Q$\n",
    "- $ d(P,Q) \\leq d(P,R)+d(R,Q)$ para $R$ entre $P$ e $Q$\n",
    "\n",
    "### Por que usar as distâncias?\n",
    "\n",
    "1. Diagnóstico de observações atípicas (Distância da observação à média);\n",
    "2. Técnicas de agrupamento.\n",
    "\n",
    "Por exemplo, usando a distância de Malahanobis, podemos usar o seguinte teste para identificar outliers:  $d^2_M \\sim \\chi ^2_p$.\n",
    "\n",
    "No caso do exemplo dos cães, nenhum ponto é considerado outlier, pois, para $\\alpha=0.05$ todas as distâncias (ao quadrado) são abaixo de 12,59 (Linha no gráfico).\n",
    "\n",
    "Se a matriz de covariâncias não for arredondada, espera-se que as distâncias dos pontos para o centróide sejam todas iguais. "
   ]
  },
  {
   "cell_type": "code",
   "execution_count": 7,
   "metadata": {},
   "outputs": [
    {
     "name": "stdout",
     "output_type": "stream",
     "text": [
      "[1] 0.6341095 4.1650023 3.1278595 2.6621452 6.8209763 4.0234439 5.1738335\n"
     ]
    },
    {
     "data": {
      "image/png": "[encoded data removed]",
      "text/plain": [
       "plot without title"
      ]
     },
     "metadata": {},
     "output_type": "display_data"
    }
   ],
   "source": [
    "dm = mahalanobis(caes, medias, round(covariancias))\n",
    "print(dm)\n",
    "plot(dm, ylim=c(1,13), ylab=\"Distancia de Mahalanobis ao Quadrado\")\n",
    "abline(qchisq(.95, df=6), 0)"
   ]
  },
  {
   "cell_type": "markdown",
   "metadata": {},
   "source": [
    "Um exemplo utilizando os dados dos cães:\n",
    "\n",
    "Considerando a amostra 7 como o cão ancestral e os outros caẽs como o grupo de cães modernos, podemos calcular a distância entre o ancestral e os modernos de diferentes maneiras:\n",
    "\n",
    "Adotando a distância de Malahanobis, uma vez que as variáveis são correlacionadas e com variâncias heterogêneas, a distância média é a média das distâncias de cada cão moderno com o cão ancestral: "
   ]
  },
  {
   "cell_type": "code",
   "execution_count": 19,
   "metadata": {},
   "outputs": [
    {
     "name": "stdout",
     "output_type": "stream",
     "text": [
      "    X1   X2   X3   X4   X5   X6\n",
      "1  9.7 21.0 19.4  7.7 32.0 36.5\n",
      "2  8.1 16.7 18.3  7.0 30.3 32.9\n",
      "3 13.5 27.3 26.8 10.6 41.9 48.1\n",
      "4 11.5 24.3 24.5  9.3 40.0 44.6\n",
      "5 10.7 23.5 21.4  8.5 28.8 37.6\n",
      "6  9.6 22.6 21.1  8.3 34.4 43.1\n",
      "     X1    X2    X3   X4    X5    X6\n",
      "X1 3.45  6.28  5.71 2.30  7.74  9.08\n",
      "X2 6.28 12.63 10.45 4.27 13.56 18.26\n",
      "X3 5.71 10.45 10.17 3.98 14.97 16.93\n",
      "X4 2.30  4.27  3.98 1.59  5.65  6.67\n",
      "X5 7.74 13.56 14.97 5.65 28.27 27.40\n",
      "X6 9.08 18.26 16.93 6.67 27.40 32.70\n",
      "       1        2        3        4        5        6 \n",
      "10.89502 11.76207 11.57914 11.62601 11.52028 11.99944 \n",
      "   Min. 1st Qu.  Median    Mean 3rd Qu.    Max. \n",
      "  10.90   11.53   11.60   11.56   11.73   12.00 \n"
     ]
    }
   ],
   "source": [
    "moderno = caes[-7,]\n",
    "print(moderno)\n",
    "covarianciaModerno = round(var(moderno),2)\n",
    "print(covarianciaModerno)\n",
    "vetor = as.numeric(caes[7,])\n",
    "maha = mahalanobis(moderno, vetor, covarianciaModerno)\n",
    "maha = sqrt(maha) #Distancia de Mahalanobis eh dada ao quadrado\n",
    "print(maha)\n",
    "print(summary(maha))"
   ]
  },
  {
   "cell_type": "markdown",
   "metadata": {},
   "source": [
    "Deste modo, temos que a distância média é 11.56, a distância mínima (cão moderno mais próximo do ancestral) é o 5 a distância máxima (cão moderno mais distante do ancestral) é o 6.\n",
    "\n",
    "Outra distância possível é entre o centróide dos cães modernos e o ancestral (11.39):"
   ]
  },
  {
   "cell_type": "code",
   "execution_count": 20,
   "metadata": {},
   "outputs": [
    {
     "name": "stdout",
     "output_type": "stream",
     "text": [
      "       X1        X2        X3        X4        X5        X6 \n",
      "10.516667 22.566667 21.916667  8.566667 34.566667 40.466667 \n",
      "[1] 11.39047\n"
     ]
    }
   ],
   "source": [
    "centroide = colMeans(moderno)\n",
    "print(centroide)\n",
    "\n",
    "maha2 = mahalanobis(centroide, vetor, covarianciaModerno)\n",
    "print(sqrt(maha2))"
   ]
  },
  {
   "cell_type": "markdown",
   "metadata": {
    "collapsed": true
   },
   "source": [
    "# Análise de Componentes Principais\n",
    "\n",
    "### Objetivos:\n",
    "\n",
    "- Reduzir a dimensionalidade dos dados\n",
    "- Descrever a variabilidade de variáveis correlacionadas\n",
    "\n",
    "### Álgebra\n",
    "\n",
    "A primeira componente principal (CP1) é a combinação linear das observações que descreve a maior variância dos dados. A segunda componente principal (CP2) descreve a segunda maior variância dos dados ortogonal à primeira componente, e assim por diante até a n-énesima componente ($n$ = número de variáveis).\n",
    "\n",
    "$$ PC = a_{11}x_1 + a_{12}x_2 + \\dots + a_{1q}x_q$$"
   ]
  },
  {
   "cell_type": "code",
   "execution_count": null,
   "metadata": {
    "collapsed": true
   },
   "outputs": [],
   "source": []
  },
  {
   "cell_type": "code",
   "execution_count": null,
   "metadata": {
    "collapsed": true
   },
   "outputs": [],
   "source": []
  }
 ],
 "metadata": {
  "kernelspec": {
   "display_name": "R",
   "language": "R",
   "name": "ir"
  },
  "language_info": {
   "codemirror_mode": "r",
   "file_extension": ".r",
   "mimetype": "text/x-r-source",
   "name": "R",
   "pygments_lexer": "r",
   "version": "3.4.1"
  }
 },
 "nbformat": 4,
 "nbformat_minor": 2
}
